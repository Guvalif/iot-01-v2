{
  "nbformat": 4,
  "nbformat_minor": 0,
  "metadata": {
    "colab": {
      "name": "walking-stable_decision-tree.ipynb",
      "version": "0.3.2",
      "provenance": []
    },
    "kernelspec": {
      "name": "python3",
      "display_name": "Python 3"
    }
  },
  "cells": [
    {
      "cell_type": "code",
      "metadata": {
        "id": "TVeRrqCezJDA",
        "colab_type": "code",
        "outputId": "734fc7c6-0eff-4665-d102-84775146afa4",
        "colab": {
          "base_uri": "https://localhost:8080/",
          "height": 204
        }
      },
      "source": [
        "from pandas import read_csv\n",
        "\n",
        "dataframe = read_csv('dataset.csv', sep=',', names=('label', 'mean', 'var', 'p2p', 'min_v', 'max_v', 'time'))\n",
        "dataframe.head()"
      ],
      "execution_count": 0,
      "outputs": [
        {
          "output_type": "execute_result",
          "data": {
            "text/html": [
              "<div>\n",
              "<style scoped>\n",
              "    .dataframe tbody tr th:only-of-type {\n",
              "        vertical-align: middle;\n",
              "    }\n",
              "\n",
              "    .dataframe tbody tr th {\n",
              "        vertical-align: top;\n",
              "    }\n",
              "\n",
              "    .dataframe thead th {\n",
              "        text-align: right;\n",
              "    }\n",
              "</style>\n",
              "<table border=\"1\" class=\"dataframe\">\n",
              "  <thead>\n",
              "    <tr style=\"text-align: right;\">\n",
              "      <th></th>\n",
              "      <th>label</th>\n",
              "      <th>mean</th>\n",
              "      <th>var</th>\n",
              "      <th>p2p</th>\n",
              "      <th>min_v</th>\n",
              "      <th>max_v</th>\n",
              "      <th>time_ms</th>\n",
              "    </tr>\n",
              "  </thead>\n",
              "  <tbody>\n",
              "    <tr>\n",
              "      <th>0</th>\n",
              "      <td>stable</td>\n",
              "      <td>1020.57</td>\n",
              "      <td>52.6286</td>\n",
              "      <td>19.1411</td>\n",
              "      <td>1013.57</td>\n",
              "      <td>1032.71</td>\n",
              "      <td>82231</td>\n",
              "    </tr>\n",
              "    <tr>\n",
              "      <th>1</th>\n",
              "      <td>stable</td>\n",
              "      <td>1020.46</td>\n",
              "      <td>53.7432</td>\n",
              "      <td>19.1411</td>\n",
              "      <td>1013.57</td>\n",
              "      <td>1032.71</td>\n",
              "      <td>82260</td>\n",
              "    </tr>\n",
              "    <tr>\n",
              "      <th>2</th>\n",
              "      <td>stable</td>\n",
              "      <td>1020.46</td>\n",
              "      <td>53.7432</td>\n",
              "      <td>19.1411</td>\n",
              "      <td>1013.57</td>\n",
              "      <td>1032.71</td>\n",
              "      <td>82289</td>\n",
              "    </tr>\n",
              "    <tr>\n",
              "      <th>3</th>\n",
              "      <td>stable</td>\n",
              "      <td>1019.97</td>\n",
              "      <td>49.1889</td>\n",
              "      <td>19.1411</td>\n",
              "      <td>1013.57</td>\n",
              "      <td>1032.71</td>\n",
              "      <td>82318</td>\n",
              "    </tr>\n",
              "    <tr>\n",
              "      <th>4</th>\n",
              "      <td>stable</td>\n",
              "      <td>1020.08</td>\n",
              "      <td>48.1550</td>\n",
              "      <td>19.1411</td>\n",
              "      <td>1013.57</td>\n",
              "      <td>1032.71</td>\n",
              "      <td>82347</td>\n",
              "    </tr>\n",
              "  </tbody>\n",
              "</table>\n",
              "</div>"
            ],
            "text/plain": [
              "    label     mean      var      p2p    min_v    max_v  time_ms\n",
              "0  stable  1020.57  52.6286  19.1411  1013.57  1032.71    82231\n",
              "1  stable  1020.46  53.7432  19.1411  1013.57  1032.71    82260\n",
              "2  stable  1020.46  53.7432  19.1411  1013.57  1032.71    82289\n",
              "3  stable  1019.97  49.1889  19.1411  1013.57  1032.71    82318\n",
              "4  stable  1020.08  48.1550  19.1411  1013.57  1032.71    82347"
            ]
          },
          "metadata": {
            "tags": []
          },
          "execution_count": 1
        }
      ]
    },
    {
      "cell_type": "code",
      "metadata": {
        "id": "Av8dkPS1z0F2",
        "colab_type": "code",
        "colab": {}
      },
      "source": [
        "labels   = dataframe['label'].values.tolist()\n",
        "features = dataframe.loc[:, ['mean', 'var', 'p2p', 'min_v', 'max_v']].values.tolist()"
      ],
      "execution_count": 0,
      "outputs": []
    },
    {
      "cell_type": "code",
      "metadata": {
        "id": "FD049E8H2bZ3",
        "colab_type": "code",
        "outputId": "6518ffcf-d85f-49c9-8ad7-424987bbf8a5",
        "colab": {
          "base_uri": "https://localhost:8080/",
          "height": 119
        }
      },
      "source": [
        "from sklearn.tree import DecisionTreeClassifier, export_graphviz\n",
        "\n",
        "decision_tree = DecisionTreeClassifier(max_depth=3)\n",
        "decision_tree.fit(features, labels)"
      ],
      "execution_count": 0,
      "outputs": [
        {
          "output_type": "execute_result",
          "data": {
            "text/plain": [
              "DecisionTreeClassifier(class_weight=None, criterion='gini', max_depth=3,\n",
              "                       max_features=None, max_leaf_nodes=None,\n",
              "                       min_impurity_decrease=0.0, min_impurity_split=None,\n",
              "                       min_samples_leaf=1, min_samples_split=2,\n",
              "                       min_weight_fraction_leaf=0.0, presort=False,\n",
              "                       random_state=None, splitter='best')"
            ]
          },
          "metadata": {
            "tags": []
          },
          "execution_count": 3
        }
      ]
    },
    {
      "cell_type": "code",
      "metadata": {
        "id": "OJuiusO62yss",
        "colab_type": "code",
        "colab": {}
      },
      "source": [
        "dot_data = export_graphviz(\n",
        "    decision_tree,\n",
        "    out_file=None,\n",
        "    filled=True,\n",
        "    feature_names=dataframe.columns[1:-1],\n",
        "    class_names=['stable', 'walking']\n",
        ")"
      ],
      "execution_count": 0,
      "outputs": []
    },
    {
      "cell_type": "code",
      "metadata": {
        "id": "7Vay53o15a6V",
        "colab_type": "code",
        "outputId": "9f6fbf2c-65f9-4653-ff54-d20677c73218",
        "colab": {
          "base_uri": "https://localhost:8080/",
          "height": 51
        }
      },
      "source": [
        "!pip install pydotplus"
      ],
      "execution_count": 0,
      "outputs": [
        {
          "output_type": "stream",
          "text": [
            "Requirement already satisfied: pydotplus in /usr/local/lib/python3.6/dist-packages (2.0.2)\n",
            "Requirement already satisfied: pyparsing>=2.0.1 in /usr/local/lib/python3.6/dist-packages (from pydotplus) (2.4.0)\n"
          ],
          "name": "stdout"
        }
      ]
    },
    {
      "cell_type": "code",
      "metadata": {
        "id": "E7M2njdI4sJH",
        "colab_type": "code",
        "outputId": "b0f095c7-b9ca-46f2-dafa-05586855dcca",
        "colab": {
          "base_uri": "https://localhost:8080/",
          "height": 277
        }
      },
      "source": [
        "from pydotplus import graph_from_dot_data\n",
        "from IPython.display import Image\n",
        "\n",
        "Image(graph_from_dot_data(dot_data).create_png())"
      ],
      "execution_count": 0,
      "outputs": [
        {
          "output_type": "execute_result",
          "data": {
            "image/png": "[encoded data removed]",
            "text/plain": [
              "<IPython.core.display.Image object>"
            ]
          },
          "metadata": {
            "tags": []
          },
          "execution_count": 10
        }
      ]
    },
    {
      "cell_type": "code",
      "metadata": {
        "id": "jZ4cH4Tn5wWV",
        "colab_type": "code",
        "colab": {}
      },
      "source": [
        ""
      ],
      "execution_count": 0,
      "outputs": []
    }
  ]
}